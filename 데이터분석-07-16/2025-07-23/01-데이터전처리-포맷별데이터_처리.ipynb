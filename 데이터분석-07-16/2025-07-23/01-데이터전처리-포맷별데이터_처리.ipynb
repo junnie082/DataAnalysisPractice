{
 "cells": [
  {
   "cell_type": "code",
   "execution_count": 15,
   "id": "be3c2757",
   "metadata": {},
   "outputs": [
    {
     "name": "stdout",
     "output_type": "stream",
     "text": [
      "Overwriting sample1.csv\n"
     ]
    }
   ],
   "source": [
    "%%writefile sample1.csv\n",
    "c1, c2, c3\n",
    "1, 1.11, one\n",
    "2, 2.22, two\n",
    "3, 3.33, three"
   ]
  },
  {
   "cell_type": "code",
   "execution_count": 14,
   "id": "47b65ec5",
   "metadata": {},
   "outputs": [
    {
     "name": "stdout",
     "output_type": "stream",
     "text": [
      "['id', 'name', 'price', 'amount']\n",
      "<class 'list'>\n",
      "[]\n",
      "<class 'list'>\n",
      "['1', 'apple', '5000', '5']\n",
      "<class 'list'>\n",
      "[]\n",
      "<class 'list'>\n",
      "['2', 'pencil', '500', '42']\n",
      "<class 'list'>\n",
      "[]\n",
      "<class 'list'>\n",
      "['3', 'pineapple', '8000', '5']\n",
      "<class 'list'>\n",
      "[]\n",
      "<class 'list'>\n",
      "['4', 'pen', '1500', '10']\n",
      "<class 'list'>\n",
      "[]\n",
      "<class 'list'>\n"
     ]
    }
   ],
   "source": [
    "# CSV는 Comma-Separated Values 의 약자로, 데이터를 쉼표(,)로 구분한 텍스트 파일\n",
    "import csv \n",
    "\n",
    "csv_file = open(\"sample1.csv\")\n",
    "reader = csv.reader(csv_file)\n",
    "\n",
    "reader\n",
    "\n",
    "for row in reader: \n",
    "    print(row)\n",
    "    print(type(row))"
   ]
  },
  {
   "cell_type": "code",
   "execution_count": 13,
   "id": "e840a48d",
   "metadata": {},
   "outputs": [],
   "source": [
    "# CSV 저장\n",
    "import csv\n",
    "\n",
    "data = [\n",
    "    ['id', 'name', 'price', 'amount'],\n",
    "    ['1', 'apple', '5000', '5'],\n",
    "    ['2', 'pencil', '500', '42'],\n",
    "    ['3', 'pineapple', '8000', '5'],\n",
    "    ['4', 'pen', '1500', '10']\n",
    "]\n",
    "\n",
    "csv_file = open(\"sample2.csv\", \"w\")\n",
    "writer = csv.writer(csv_file)\n",
    "writer.writerows(data)\n",
    "\n",
    "csv_file.close()"
   ]
  },
  {
   "cell_type": "code",
   "execution_count": 17,
   "id": "f44a6161",
   "metadata": {},
   "outputs": [
    {
     "name": "stdout",
     "output_type": "stream",
     "text": [
      "<class 'pandas.core.frame.DataFrame'>\n",
      "RangeIndex: 14 entries, 0 to 13\n",
      "Data columns (total 8 columns):\n",
      " #   Column    Non-Null Count  Dtype  \n",
      "---  ------    --------------  -----  \n",
      " 0   empno     14 non-null     int64  \n",
      " 1   ename     14 non-null     object \n",
      " 2   job       14 non-null     object \n",
      " 3   mgr       13 non-null     float64\n",
      " 4   hiredate  14 non-null     object \n",
      " 5   sal       14 non-null     int64  \n",
      " 6   comm      4 non-null      float64\n",
      " 7   deptno    14 non-null     int64  \n",
      "dtypes: float64(2), int64(3), object(3)\n",
      "memory usage: 1.0+ KB\n"
     ]
    },
    {
     "data": {
      "text/html": [
       "<div>\n",
       "<style scoped>\n",
       "    .dataframe tbody tr th:only-of-type {\n",
       "        vertical-align: middle;\n",
       "    }\n",
       "\n",
       "    .dataframe tbody tr th {\n",
       "        vertical-align: top;\n",
       "    }\n",
       "\n",
       "    .dataframe thead th {\n",
       "        text-align: right;\n",
       "    }\n",
       "</style>\n",
       "<table border=\"1\" class=\"dataframe\">\n",
       "  <thead>\n",
       "    <tr style=\"text-align: right;\">\n",
       "      <th></th>\n",
       "      <th>empno</th>\n",
       "      <th>ename</th>\n",
       "      <th>job</th>\n",
       "      <th>mgr</th>\n",
       "      <th>hiredate</th>\n",
       "      <th>sal</th>\n",
       "      <th>comm</th>\n",
       "      <th>deptno</th>\n",
       "    </tr>\n",
       "  </thead>\n",
       "  <tbody>\n",
       "    <tr>\n",
       "      <th>0</th>\n",
       "      <td>7839</td>\n",
       "      <td>KING</td>\n",
       "      <td>PRESIDENT</td>\n",
       "      <td>NaN</td>\n",
       "      <td>1981-11-17</td>\n",
       "      <td>5000</td>\n",
       "      <td>NaN</td>\n",
       "      <td>10</td>\n",
       "    </tr>\n",
       "    <tr>\n",
       "      <th>1</th>\n",
       "      <td>7698</td>\n",
       "      <td>BLAKE</td>\n",
       "      <td>MANAGER</td>\n",
       "      <td>7839.0</td>\n",
       "      <td>1981-05-01</td>\n",
       "      <td>2850</td>\n",
       "      <td>NaN</td>\n",
       "      <td>30</td>\n",
       "    </tr>\n",
       "    <tr>\n",
       "      <th>2</th>\n",
       "      <td>7782</td>\n",
       "      <td>CLARK</td>\n",
       "      <td>MANAGER</td>\n",
       "      <td>7839.0</td>\n",
       "      <td>1981-05-09</td>\n",
       "      <td>2450</td>\n",
       "      <td>NaN</td>\n",
       "      <td>10</td>\n",
       "    </tr>\n",
       "    <tr>\n",
       "      <th>3</th>\n",
       "      <td>7566</td>\n",
       "      <td>JONES</td>\n",
       "      <td>MANAGER</td>\n",
       "      <td>7839.0</td>\n",
       "      <td>1981-04-01</td>\n",
       "      <td>2975</td>\n",
       "      <td>NaN</td>\n",
       "      <td>20</td>\n",
       "    </tr>\n",
       "    <tr>\n",
       "      <th>4</th>\n",
       "      <td>7654</td>\n",
       "      <td>MARTIN</td>\n",
       "      <td>SALESMAN</td>\n",
       "      <td>7698.0</td>\n",
       "      <td>1981-09-10</td>\n",
       "      <td>1250</td>\n",
       "      <td>1400.0</td>\n",
       "      <td>30</td>\n",
       "    </tr>\n",
       "  </tbody>\n",
       "</table>\n",
       "</div>"
      ],
      "text/plain": [
       "   empno   ename        job     mgr    hiredate   sal    comm  deptno\n",
       "0   7839    KING  PRESIDENT     NaN  1981-11-17  5000     NaN      10\n",
       "1   7698   BLAKE    MANAGER  7839.0  1981-05-01  2850     NaN      30\n",
       "2   7782   CLARK    MANAGER  7839.0  1981-05-09  2450     NaN      10\n",
       "3   7566   JONES    MANAGER  7839.0  1981-04-01  2975     NaN      20\n",
       "4   7654  MARTIN   SALESMAN  7698.0  1981-09-10  1250  1400.0      30"
      ]
     },
     "execution_count": 17,
     "metadata": {},
     "output_type": "execute_result"
    }
   ],
   "source": [
    "# 판다스로 컨트롤하기\n",
    "import pandas as pd\n",
    "\n",
    "df_emp = pd.read_csv(\"emp.csv\")\n",
    "df_emp.info()\n",
    "df_emp.describe()\n",
    "df_emp.head()"
   ]
  },
  {
   "cell_type": "code",
   "execution_count": 21,
   "id": "1a41e8d8",
   "metadata": {},
   "outputs": [
    {
     "name": "stdout",
     "output_type": "stream",
     "text": [
      "<class 'pandas.core.frame.DataFrame'>\n",
      "RangeIndex: 4 entries, 0 to 3\n",
      "Data columns (total 3 columns):\n",
      " #   Column   Non-Null Count  Dtype \n",
      "---  ------   --------------  ----- \n",
      " 0   name     4 non-null      object\n",
      " 1   age      4 non-null      int64 \n",
      " 2   address  4 non-null      object\n",
      "dtypes: int64(1), object(2)\n",
      "memory usage: 228.0+ bytes\n"
     ]
    }
   ],
   "source": [
    "import pandas as pd\n",
    "\n",
    "names = ['Kim', 'Park', 'Lee', 'Shin']\n",
    "ages = [25, 29, 21, 33]\n",
    "address = ['서울', '대구', '춘천', '제주']\n",
    "\n",
    "dictionary = {\n",
    "    'name' : names,\n",
    "    'age' : ages,\n",
    "    'address' : address\n",
    "}\n",
    "\n",
    "df = pd.DataFrame(dictionary)\n",
    "df.info()\n",
    "\n",
    "# 인덱스 열 없이 저장\n",
    "df.to_csv(\"사원정보.csv\", index=False)"
   ]
  },
  {
   "cell_type": "code",
   "execution_count": 25,
   "id": "f931788c",
   "metadata": {},
   "outputs": [
    {
     "name": "stdout",
     "output_type": "stream",
     "text": [
      "Overwriting sample.json\n"
     ]
    }
   ],
   "source": [
    "%%writefile sample.json \n",
    "\n",
    "[\n",
    "    {\n",
    "      \"id\": \"A001\",\n",
    "      \"city\": \"Tokyo\",\n",
    "      \"country\": \"Japan\",\n",
    "    },\n",
    "    {\n",
    "      \"id\": \"B012\",\n",
    "      \"city\": \"Jerusalem\",\n",
    "      \"country\": \"Isreal\",\n",
    "    },\n",
    "    {\n",
    "      \"id\": \"C123\",\n",
    "      \"city\": \"Busan\",\n",
    "      \"country\": \"South Korea\",\n",
    "    }\n",
    "]"
   ]
  },
  {
   "cell_type": "code",
   "execution_count": 31,
   "id": "73299e00",
   "metadata": {},
   "outputs": [
    {
     "name": "stdout",
     "output_type": "stream",
     "text": [
      "<class 'pandas.core.frame.DataFrame'>\n",
      "RangeIndex: 3 entries, 0 to 2\n",
      "Data columns (total 3 columns):\n",
      " #   Column   Non-Null Count  Dtype \n",
      "---  ------   --------------  ----- \n",
      " 0   id       3 non-null      object\n",
      " 1   city     3 non-null      object\n",
      " 2   country  3 non-null      object\n",
      "dtypes: object(3)\n",
      "memory usage: 204.0+ bytes\n",
      "[\n",
      "    {\n",
      "        \"\\uc774\\ub984\":\"John\",\n",
      "        \"\\ub098\\uc774\":30,\n",
      "        \"\\uc131\\ubcc4\":\"\\ub0a8\\uc131\"\n",
      "    },\n",
      "    {\n",
      "        \"\\uc774\\ub984\":\"Doe\",\n",
      "        \"\\ub098\\uc774\":25,\n",
      "        \"\\uc131\\ubcc4\":\"\\ub0a8\\uc131\"\n",
      "    },\n",
      "    {\n",
      "        \"\\uc774\\ub984\":\"Jane\",\n",
      "        \"\\ub098\\uc774\":28,\n",
      "        \"\\uc131\\ubcc4\":\"\\uc5ec\\uc131\"\n",
      "    }\n",
      "]\n"
     ]
    }
   ],
   "source": [
    "df_json = pd.read_json(\"sample.json\")\n",
    "\n",
    "df_json.info()\n",
    "df_json.describe()\n",
    "df_json.head()\n",
    "\n",
    "url = 'https://jsonplaceholder.typicode.com/users'\n",
    "df_json = pd.read_json(url)\n",
    "df_json.head()\n",
    "\n",
    "# 데이터프레임을 json으로 변환\n",
    "import pandas as pd\n",
    "\n",
    "data = {\n",
    "    \"이름\": ['John', 'Doe', 'Jane'], \n",
    "    \"나이\": [30, 25, 28], \n",
    "    \"성별\": [\"남성\", \"남성\", \"여성\"]\n",
    "}\n",
    "\n",
    "df = pd.DataFrame(data)\n",
    "\n",
    "json_data = df.to_json(orient='records', indent=4)\n",
    "print(json_data)\n",
    "\n",
    "# JSON 파일로 바로 저장\n",
    "df.to_json('data.json', orient='records', force_ascii=False, indent=4)\n",
    "df.to_json('행기준.json', orient='records', force_ascii=False, indent=4)\n",
    "df.to_json('열기준.json', orient='columns', force_ascii=False, indent=4)"
   ]
  },
  {
   "cell_type": "code",
   "execution_count": 36,
   "id": "69ee76cb",
   "metadata": {},
   "outputs": [
    {
     "name": "stdout",
     "output_type": "stream",
     "text": [
      "Overwriting test.xml\n"
     ]
    }
   ],
   "source": [
    "%%writefile test.xml\n",
    "<?xml version=\"1.0\" encoding=\"utf-8\"?>\n",
    "<world name = \"주소록과 네이버 API 서비스키\">\n",
    "\n",
    "    <people name='김민국'>\n",
    "        <age>15</age>\n",
    "        <tall>183cm</tall>\n",
    "        <add>서울시 서대문구</add>\n",
    "    </people>\n",
    "    \n",
    "    <people name='박한솔' >\n",
    "        <age>30</age>\n",
    "        <tall>175cm</tall>\n",
    "        <add>서울시 용산구</add>\n",
    "    </people>\n",
    "    \n",
    "    <naver_api>\n",
    "        <client_id>JXRlq56Db1L0PA</client_id>\n",
    "        <client_secret>hwiniqqkgvH</client_secret>\n",
    "    </naver_api>\n",
    "    \n",
    "</world>"
   ]
  },
  {
   "cell_type": "code",
   "execution_count": null,
   "id": "cb5a3543",
   "metadata": {},
   "outputs": [
    {
     "name": "stdout",
     "output_type": "stream",
     "text": [
      "world\n",
      "주소록과 네이버 API 서비스키\n",
      "people {'name': '김민국'}\n",
      "people {'name': '박한솔'}\n",
      "naver_api {}\n",
      "15\n",
      "30\n"
     ]
    }
   ],
   "source": [
    "# Extendsible Markup Language (XML) <>\n",
    "# html 도 xml 의 한 종류일 뿐\n",
    "# 부모 자식 트리 구조로 메모리에 올림\n",
    "import xml.etree.ElementTree as ET\n",
    "\n",
    "tree = ET.parse(\"test.xml\")\n",
    "root = tree.getroot()\n",
    "print(root.tag)\n",
    "print(root.get('name'))\n",
    "\n",
    "for child in root: \n",
    "    print(child.tag, child.attrib)\n",
    "    \n",
    "# age 태그의 나이 전부\n",
    "for age in root.iter('age'):\n",
    "    print(age.text) \n",
    "\n",
    "# iter 는 for 문에 돌릴 수 있게 하는 거. "
   ]
  },
  {
   "cell_type": "code",
   "execution_count": 45,
   "id": "1eb28223",
   "metadata": {},
   "outputs": [
    {
     "name": "stdout",
     "output_type": "stream",
     "text": [
      "김민국\n",
      "15\n",
      "183cm\n",
      "서울시 서대문구\n",
      "박한솔\n",
      "30\n",
      "175cm\n",
      "서울시 용산구\n"
     ]
    },
    {
     "data": {
      "text/html": [
       "<div>\n",
       "<style scoped>\n",
       "    .dataframe tbody tr th:only-of-type {\n",
       "        vertical-align: middle;\n",
       "    }\n",
       "\n",
       "    .dataframe tbody tr th {\n",
       "        vertical-align: top;\n",
       "    }\n",
       "\n",
       "    .dataframe thead th {\n",
       "        text-align: right;\n",
       "    }\n",
       "</style>\n",
       "<table border=\"1\" class=\"dataframe\">\n",
       "  <thead>\n",
       "    <tr style=\"text-align: right;\">\n",
       "      <th></th>\n",
       "      <th>이름</th>\n",
       "      <th>나이</th>\n",
       "      <th>키</th>\n",
       "      <th>주소</th>\n",
       "    </tr>\n",
       "  </thead>\n",
       "  <tbody>\n",
       "    <tr>\n",
       "      <th>0</th>\n",
       "      <td>김민국</td>\n",
       "      <td>15</td>\n",
       "      <td>183cm</td>\n",
       "      <td>서울시 서대문구</td>\n",
       "    </tr>\n",
       "    <tr>\n",
       "      <th>1</th>\n",
       "      <td>박한솔</td>\n",
       "      <td>30</td>\n",
       "      <td>175cm</td>\n",
       "      <td>서울시 용산구</td>\n",
       "    </tr>\n",
       "  </tbody>\n",
       "</table>\n",
       "</div>"
      ],
      "text/plain": [
       "    이름  나이      키        주소\n",
       "0  김민국  15  183cm  서울시 서대문구\n",
       "1  박한솔  30  175cm   서울시 용산구"
      ]
     },
     "execution_count": 45,
     "metadata": {},
     "output_type": "execute_result"
    }
   ],
   "source": [
    "# 웹 크롤링 할 때 자주 사용되는 Python 라이브러리 BeautifulSoup 과 Selenium\n",
    "# BeautifulSoup 라이브러리를 이용하여 xml 파일을 아래와 같이 파싱하여 텍스트 데이터를 추출\n",
    "\n",
    "from bs4 import BeautifulSoup as bs\n",
    "\n",
    "# csv_file = open('sample2.csv', 'w')\n",
    "# f는 csv_file 와 똑같다\n",
    "# 단 차이점은, with as 를 쓰게 되면 f.close() 가 자동으로 됨\n",
    "with open(\"test.xml\", \"r\") as f: \n",
    "    xml_doc = f.read()\n",
    "    \n",
    "soup = bs(xml_doc, \"xml\")\n",
    "\n",
    "for row in soup.find_all(\"people\"): \n",
    "    print(row.get('name'))\n",
    "    print(row.age.text)\n",
    "    print(row.tall.text)\n",
    "    print(row.add.text)\n",
    "    \n",
    "# XML 데이터를 파싱하여 데이터프레임으로 저장\n",
    "# 아쉽게도 한방짜리 함수가 없음\n",
    "import pandas as pd\n",
    "persons = []\n",
    "\n",
    "for p in soup.find_all('people'):\n",
    "    persons.append({\n",
    "       '이름': p.get('name'), \n",
    "       '나이': p.age.text, \n",
    "       '키': p.tall.text, \n",
    "        '주소': p.add.text\n",
    "    } )\n",
    "\n",
    "# 념파이/리스트/딕셔너리 로 만들어가지고 데이터프레임에 넣기\n",
    "\n",
    "df = pd.DataFrame(persons)\n",
    "df"
   ]
  },
  {
   "cell_type": "code",
   "execution_count": 3,
   "id": "3b76e041",
   "metadata": {},
   "outputs": [
    {
     "name": "stdout",
     "output_type": "stream",
     "text": [
      "<a class=\"_nclicks:kin.txt _searchListTitleAnchor\" href=\"https://kin.naver.com/qna/detail.naver?d1id=7&amp;dirId=71103&amp;docId=487198560&amp;qb=64+87KeA&amp;enc=utf8\" target=\"_blank\">덜 익은 <b>돼지</b>고기 먹고 설사</a>\n",
      "덜 익은 돼지고기 먹고 설사\n"
     ]
    }
   ],
   "source": [
    "# 네이버 크롤링예제\n",
    "import requests \n",
    "from bs4 import BeautifulSoup\n",
    "\n",
    "# url = \"https://kin.naver.com/search/list.naver?query=%ED%8C%8C%EC%9D%B4%EC%8D%AC\"\n",
    "# 문자열을 하나 입력 받아, 지식인에서 가장 위에 나오는 타이틀(제목)은?\n",
    "keyword = input()\n",
    "\n",
    "url = f\"https://kin.naver.com/search/list.naver?query={keyword}\"\n",
    "\n",
    "# url = \"https://naver.com\"\n",
    "response = requests.get(url) # request 는 웹 브라우저\n",
    "\n",
    "# print(response.text)\n",
    "\n",
    "if response.status_code == 200: \n",
    "    html = response.text\n",
    "    # print(html)\n",
    "    soup = BeautifulSoup(html, 'html.parser')\n",
    "    title = soup.select_one('#s_content > div.section > ul > li:nth-child(1) > dl > dt > a')  \n",
    "    print(title)\n",
    "    print(title.get_text())\n",
    "else: \n",
    "    print(response.status_code)\n",
    "    \n",
    "# 오른쪽 마우스 -> 검사 -> 오른쪽 마우스 -> copy -> copy selector"
   ]
  },
  {
   "cell_type": "code",
   "execution_count": null,
   "id": "6566299b",
   "metadata": {},
   "outputs": [],
   "source": []
  }
 ],
 "metadata": {
  "kernelspec": {
   "display_name": "base",
   "language": "python",
   "name": "python3"
  },
  "language_info": {
   "codemirror_mode": {
    "name": "ipython",
    "version": 3
   },
   "file_extension": ".py",
   "mimetype": "text/x-python",
   "name": "python",
   "nbconvert_exporter": "python",
   "pygments_lexer": "ipython3",
   "version": "3.13.5"
  }
 },
 "nbformat": 4,
 "nbformat_minor": 5
}
